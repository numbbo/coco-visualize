{
 "cells": [
  {
   "cell_type": "code",
   "execution_count": null,
   "id": "7a828d09-1ddf-43c9-b4d3-4f5d6f8e7fbd",
   "metadata": {},
   "outputs": [],
   "source": [
    "import pandas as pd\n",
    "\n",
    "from pathlib import Path\n",
    "from cocoviz import ProblemDescription, Result, ResultSet, ertplot, ertvalues\n",
    "\n",
    "DATA_DIR = Path(\"data/\")"
   ]
  },
  {
   "cell_type": "markdown",
   "id": "bb372e9b-88a0-418f-8e8f-99ba0e6906b9",
   "metadata": {},
   "source": [
    "# Read demo results"
   ]
  },
  {
   "cell_type": "code",
   "execution_count": null,
   "id": "4e2ec828-3454-4d30-aa8e-5009af42e948",
   "metadata": {},
   "outputs": [],
   "source": [
    "results = ResultSet()\n",
    "for result_file in DATA_DIR.glob(\"*.csv\"):\n",
    "    # Read CSV file\n",
    "    data = pd.read_csv(result_file)\n",
    "    \n",
    "    # Decode algorithm name and problem description from file name\n",
    "    algorithm, problem_class, n_dim, run = result_file.stem.split(\"_\")\n",
    "    n_dim = int(n_dim.split(\"=\")[1])\n",
    "    run = int(run.split(\"=\")[1])    \n",
    "    problem = ProblemDescription(problem_class, 1, n_dim, 2)\n",
    "\n",
    "    # Store results in result set\n",
    "    results.append(Result(algorithm, problem, data, \"Evaluations\"))"
   ]
  },
  {
   "cell_type": "markdown",
   "id": "440a95d7-aa07-41dd-a2ff-3a3ba0eba993",
   "metadata": {},
   "source": [
    "# Create an ERT plot each problem in the result set"
   ]
  },
  {
   "cell_type": "code",
   "execution_count": null,
   "id": "17f1ebd9-c24f-4459-9407-d564db0582ef",
   "metadata": {},
   "outputs": [],
   "source": [
    "number_of_targets = 101\n",
    "indicator = \"Hypervolume\"\n",
    "\n",
    "for problem, result_subset in results.by_problem():    \n",
    "    ax = ertplot(result_subset, \"Hypervolume\", number_of_targets=number_of_targets)\n",
    "    ax.set_title(problem)"
   ]
  },
  {
   "cell_type": "markdown",
   "id": "089ef83b-f7a0-4d7e-aa63-d2b0973f1122",
   "metadata": {},
   "source": [
    "# Compute ERT values"
   ]
  },
  {
   "cell_type": "code",
   "execution_count": null,
   "id": "7d9b04f6-74da-4ace-90ca-0579a168ed7a",
   "metadata": {},
   "outputs": [],
   "source": [
    "evs = {}\n",
    "for problem, ss in results.by_problem():\n",
    "    evs[problem] = ertvalues(ss, \"Hypervolume\")    "
   ]
  },
  {
   "cell_type": "code",
   "execution_count": null,
   "id": "5ab9b1c6-b1e7-47a7-bfbf-fe86b6b3560c",
   "metadata": {},
   "outputs": [],
   "source": []
  }
 ],
 "metadata": {
  "kernelspec": {
   "display_name": "Python 3 (ipykernel)",
   "language": "python",
   "name": "python3"
  },
  "language_info": {
   "codemirror_mode": {
    "name": "ipython",
    "version": 3
   },
   "file_extension": ".py",
   "mimetype": "text/x-python",
   "name": "python",
   "nbconvert_exporter": "python",
   "pygments_lexer": "ipython3",
   "version": "3.12.3"
  }
 },
 "nbformat": 4,
 "nbformat_minor": 5
}
