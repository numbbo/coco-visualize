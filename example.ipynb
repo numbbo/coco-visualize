{
 "cells": [
  {
   "cell_type": "code",
   "execution_count": null,
   "id": "7a828d09-1ddf-43c9-b4d3-4f5d6f8e7fbd",
   "metadata": {},
   "outputs": [],
   "source": [
    "import pandas as pd\n",
    "import matplotlib.pyplot as plt\n",
    "\n",
    "from pathlib import Path\n",
    "from cocoviz import ProblemDescription, Result, ResultSet, Indicator, rtpplot\n",
    "\n",
    "DATA_DIR = Path(\"data/\")"
   ]
  },
  {
   "cell_type": "markdown",
   "id": "bb372e9b-88a0-418f-8e8f-99ba0e6906b9",
   "metadata": {},
   "source": [
    "# Read demo results"
   ]
  },
  {
   "cell_type": "code",
   "execution_count": null,
   "id": "4e2ec828-3454-4d30-aa8e-5009af42e948",
   "metadata": {},
   "outputs": [],
   "source": [
    "results = ResultSet()\n",
    "for result_file in DATA_DIR.glob(\"*.csv\"):\n",
    "    # Read CSV file\n",
    "    data = pd.read_csv(result_file)\n",
    "\n",
    "    # Add artifical performance indicator that must be minimized\n",
    "    data[\"neg_hv\"] = -data[\"Hypervolume\"]\n",
    "    \n",
    "    # Decode algorithm name and problem description from file name\n",
    "    algorithm, problem_class, n_dim, run = result_file.stem.split(\"_\")\n",
    "    n_dim = int(n_dim.split(\"=\")[1])\n",
    "    run = int(run.split(\"=\")[1])    \n",
    "    problem = ProblemDescription(problem_class, 1, n_dim, 2)\n",
    "\n",
    "    # Store results in result set\n",
    "    results.append(Result(algorithm, problem, data, \"Evaluations\"))"
   ]
  },
  {
   "cell_type": "markdown",
   "id": "440a95d7-aa07-41dd-a2ff-3a3ba0eba993",
   "metadata": {},
   "source": [
    "# Create a runtime profile plot each problem in the result set"
   ]
  },
  {
   "cell_type": "code",
   "execution_count": null,
   "id": "17f1ebd9-c24f-4459-9407-d564db0582ef",
   "metadata": {},
   "outputs": [],
   "source": [
    "number_of_targets = 101\n",
    "\n",
    "INDICATOR = [\n",
    "    Indicator(\"Hypervolume\", larger_is_better=True),\n",
    "    Indicator(\"neg_hv\", larger_is_better=False)    \n",
    "]\n",
    "\n",
    "nvar = len(results.number_of_variables)\n",
    "fig, axes = plt.subplots(nvar, 2, figsize=(12, 12))\n",
    "for axrow, (d, result_subset) in zip(axes, results.by_number_of_variables()):\n",
    "    for ax, ind in zip(axrow, INDICATOR):\n",
    "        rtpplot(result_subset, ind, number_of_targets=number_of_targets, ax=ax)\n",
    "        ax.set_title(f\"{ind.name} / {d} decision variables\")"
   ]
  },
  {
   "cell_type": "markdown",
   "id": "7a57f0bf-56dd-4695-9b99-00b769917913",
   "metadata": {},
   "source": [
    "Aggregating over all results will throw an exception."
   ]
  },
  {
   "cell_type": "code",
   "execution_count": null,
   "id": "d2f34dda-f670-42df-a61d-29874b68cc63",
   "metadata": {},
   "outputs": [],
   "source": [
    "rtpplot(results, indicator, number_of_targets=number_of_targets)"
   ]
  },
  {
   "cell_type": "code",
   "execution_count": null,
   "id": "83a0de68-ee00-4b16-a259-aac98b360877",
   "metadata": {},
   "outputs": [],
   "source": []
  }
 ],
 "metadata": {
  "kernelspec": {
   "display_name": "Python 3 (ipykernel)",
   "language": "python",
   "name": "python3"
  },
  "language_info": {
   "codemirror_mode": {
    "name": "ipython",
    "version": 3
   },
   "file_extension": ".py",
   "mimetype": "text/x-python",
   "name": "python",
   "nbconvert_exporter": "python",
   "pygments_lexer": "ipython3",
   "version": "3.12.4"
  }
 },
 "nbformat": 4,
 "nbformat_minor": 5
}
