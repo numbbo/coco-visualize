{
 "cells": [
  {
   "cell_type": "markdown",
   "id": "cedd9575-a97a-4c77-82ed-67e8bedfc64b",
   "metadata": {},
   "source": [
    "If you haven't installed `coco-visualize` yet, run the cell below. \n",
    "It runs `pip install -U coco-visualize` from inside the notebook. \n",
    "You could also run the above command in a terminal."
   ]
  },
  {
   "cell_type": "code",
   "execution_count": null,
   "id": "83109af5-159c-4d5c-9acf-a4ba7af1bd18",
   "metadata": {},
   "outputs": [],
   "source": [
    "import sys\n",
    "print(f\"Installing `coco-visualize` for {sys.executable}.\")\n",
    "!\"{sys.executable}\" -m pip install -U coco-visualize"
   ]
  },
  {
   "cell_type": "markdown",
   "id": "ac5d1ded-be32-4d3a-a8e1-4099e17322a6",
   "metadata": {},
   "source": [
    "Now we are ready to load all the required libraries."
   ]
  },
  {
   "cell_type": "code",
   "execution_count": null,
   "id": "7a828d09-1ddf-43c9-b4d3-4f5d6f8e7fbd",
   "metadata": {},
   "outputs": [],
   "source": [
    "import itertools\n",
    "import pandas as pd\n",
    "import matplotlib.pyplot as plt\n",
    "\n",
    "from tqdm.auto import tqdm\n",
    "from pathlib import Path\n",
    "from cocoviz import ProblemDescription, Result, ResultSet, Indicator, rtpplot\n",
    "\n",
    "DATA_DIR = Path(\"data/\")"
   ]
  },
  {
   "cell_type": "markdown",
   "id": "bb372e9b-88a0-418f-8e8f-99ba0e6906b9",
   "metadata": {},
   "source": [
    "# Load demo results\n",
    "\n",
    "Here we are going to look at some data where we ran `MOEAD`, `NSGA-II`, and `GDE3` three times on `ZDT[1..4,6]` with 10 or 30 dimensions.\n",
    "The data is hosted in an S3 bucket and needs to be downloaded the first time you run the notebook. \n",
    "Afterwards it is stored locally in Parquet files.\n",
    "\n",
    "Let us define all results we expect to find:"
   ]
  },
  {
   "cell_type": "code",
   "execution_count": null,
   "id": "69eea50f-9550-41f2-bc6f-97b92066fdfe",
   "metadata": {},
   "outputs": [],
   "source": [
    "ALGORITHMS = [\"MOEAD\", \"NSGA-II\", \"GDE3\"]\n",
    "FUNCTIONS = [\"ZDT1\", \"ZDT2\", \"ZDT3\", \"ZDT4\", \"ZDT6\"]\n",
    "VARS = [10, 30]\n",
    "RUN = [1, 2, 3]\n",
    "ALL_RESULTS = list(itertools.product(ALGORITHMS, FUNCTIONS, VARS, RUN))"
   ]
  },
  {
   "cell_type": "markdown",
   "id": "ae7e5d13-42d5-4239-afba-552e9424fc10",
   "metadata": {},
   "source": [
    "Now we can iterate over the expected results, load them from the local Parquet file if present or download them otherwise.\n",
    "This shows you both how to load data from a CSV file as well as quickly reloading data from binary files."
   ]
  },
  {
   "cell_type": "code",
   "execution_count": null,
   "id": "83f94523-b7f2-436f-b152-0894e20353e4",
   "metadata": {},
   "outputs": [],
   "source": [
    "results = ResultSet()\n",
    "\n",
    "for alg, fn, var, run in tqdm(ALL_RESULTS):\n",
    "    LOCAL = Path(f\"result-{alg}_{fn}_{var}_{run}.parquet\")\n",
    "    if not LOCAL.exists(): # Need to fetch results over the network\n",
    "        URL = f\"https://cocoviz-demo-data.s3.us-west-000.backblazeb2.com/{alg}_{fn}_vars={var}_run={run}.csv\"        \n",
    "        data = pd.read_csv(URL)\n",
    "        # Add artifical performance indicator that must be minimized\n",
    "        data[\"neg_hv\"] = -data[\"Hypervolume\"]\n",
    "                \n",
    "        problem = ProblemDescription(fn, 1, var, 2)\n",
    "        result = Result(alg, problem, data, \"Evaluations\")\n",
    "        result.to_parquet(LOCAL)\n",
    "    \n",
    "    results.append(Result.from_parquet(LOCAL))"
   ]
  },
  {
   "cell_type": "markdown",
   "id": "440a95d7-aa07-41dd-a2ff-3a3ba0eba993",
   "metadata": {},
   "source": [
    "# Create a runtime profile plot each problem in the result set"
   ]
  },
  {
   "cell_type": "code",
   "execution_count": null,
   "id": "17f1ebd9-c24f-4459-9407-d564db0582ef",
   "metadata": {},
   "outputs": [],
   "source": [
    "number_of_targets = 101\n",
    "\n",
    "INDICATOR = [\n",
    "    Indicator(\"Hypervolume\", larger_is_better=True),\n",
    "    Indicator(\"neg_hv\", larger_is_better=False)    \n",
    "]\n",
    "\n",
    "nvar = len(results.number_of_variables)\n",
    "fig, axes = plt.subplots(nvar, 2, figsize=(12, 12))\n",
    "for axrow, (d, result_subset) in zip(axes, results.by_number_of_variables()):\n",
    "    for ax, ind in zip(axrow, INDICATOR):\n",
    "        rtpplot(result_subset, ind, number_of_targets=number_of_targets, ax=ax)\n",
    "        ax.set_title(f\"{ind.name} / {d} decision variables\")"
   ]
  },
  {
   "cell_type": "code",
   "execution_count": null,
   "id": "a3c21ca7-220f-47a3-a7b0-3ba1cf0c2bb2",
   "metadata": {},
   "outputs": [],
   "source": []
  }
 ],
 "metadata": {
  "kernelspec": {
   "display_name": "Python 3 (ipykernel)",
   "language": "python",
   "name": "python3"
  },
  "language_info": {
   "codemirror_mode": {
    "name": "ipython",
    "version": 3
   },
   "file_extension": ".py",
   "mimetype": "text/x-python",
   "name": "python",
   "nbconvert_exporter": "python",
   "pygments_lexer": "ipython3",
   "version": "3.12.4"
  }
 },
 "nbformat": 4,
 "nbformat_minor": 5
}
